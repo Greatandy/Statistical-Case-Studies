{
 "cells": [
  {
   "cell_type": "markdown",
   "metadata": {
    "collapsed": true
   },
   "source": [
    "# Lab3"
   ]
  },
  {
   "cell_type": "code",
   "execution_count": 2,
   "metadata": {
    "collapsed": true
   },
   "outputs": [],
   "source": [
    "import requests\n",
    "import json\n",
    "from selenium import webdriver\n",
    "from lxml import etree\n",
    "import time\n",
    "import os\n",
    "import pandas as pd\n",
    "import numpy as np\n",
    "import re\n",
    "import nltk\n",
    "from nltk.corpus import stopwords\n",
    "from nltk.stem import WordNetLemmatizer #词形变化\n",
    "from sklearn.feature_extraction.text import CountVectorizer  \n",
    "\n",
    "os.chdir(\"E:/graduate/class/Statistical Case Studies/homework3/xinhua_news/\")"
   ]
  },
  {
   "cell_type": "markdown",
   "metadata": {},
   "source": [
    "### 1.爬取新华网Business - Finance类别的新闻url"
   ]
  },
  {
   "cell_type": "code",
   "execution_count": 5,
   "metadata": {
    "collapsed": false
   },
   "outputs": [
    {
     "name": "stdout",
     "output_type": "stream",
     "text": [
      "http://www.xinhuanet.com/english/2018-03/30/c_137076591.htm\n",
      "http://www.xinhuanet.com/english/2018-03/30/c_137076569.htm\n",
      "http://www.xinhuanet.com/english/2018-03/30/c_137076516.htm\n",
      "http://www.xinhuanet.com/english/2018-03/30/c_137076517.htm\n",
      "http://www.xinhuanet.com/english/2018-03/29/c_137074965.htm\n",
      "http://www.xinhuanet.com/english/2018-03/29/c_137074813.htm\n",
      "http://www.xinhuanet.com/english/2018-03/29/c_137074783.htm\n",
      "http://www.xinhuanet.com/english/2018-03/29/c_137074673.htm\n",
      "http://www.xinhuanet.com/english/2018-03/29/c_137074641.htm\n",
      "http://www.xinhuanet.com/english/2018-03/29/c_137074003.htm\n"
     ]
    }
   ],
   "source": [
    "headers = {\n",
    "    'User-Agent':'Mozilla/5.0 (Windows NT 6.1; WOW64) AppleWebKit/537.36 (KHTML, like Gecko) Chrome/47.0.2526.80 Safari/537.36 Core/1.47.933.400 QQBrowser/9.4.8699.400',\n",
    "}\n",
    "url = 'http://qc.wa.news.cn/nodeart/list?nid=11143416&pgnum=1&cnt=50&tp=1&orderby=1?callback=jQuery111307913713753952403_1522322711817&_=1522322711818'\n",
    "\n",
    "data = requests.get(url, headers=headers)\n",
    "data.encoding\n",
    "html=data.content\n",
    "dic_html = html[42:(len(html)-2)] #提取json文本\n",
    "url_num = len(json.loads(dic_html)[\"data\"][\"list\"]);url_num  #50条url\n",
    "def geturls(i):\n",
    "    return json.loads(dic_html)[\"data\"][\"list\"][i][\"LinkUrl\"]\n",
    "new_urls = map(geturls,range(url_num))\n",
    "for i in new_urls[:10]:\n",
    "    print i"
   ]
  },
  {
   "cell_type": "markdown",
   "metadata": {},
   "source": [
    "### 2.对每个url，爬取新闻标题及内容\n",
    "- 每条新闻保存在每个txt中"
   ]
  },
  {
   "cell_type": "code",
   "execution_count": null,
   "metadata": {
    "collapsed": true
   },
   "outputs": [],
   "source": [
    "driver = webdriver.PhantomJS(executable_path=r'C:/Users/situ/Downloads/phantomjs-2.1.1-windows/bin/phantomjs.exe')\n",
    "time.sleep(5)\n",
    "i=0\n",
    "for url in new_urls:\n",
    "    i=i+1\n",
    "    driver.get(url)\n",
    "    time.sleep(1)\n",
    "    page = driver.page_source\n",
    "    selector = etree.HTML(page) \n",
    "    try:\n",
    "        text = \"\\n\".join(selector.xpath('/html/body/div[5]/div[1]/div[5]/p/text()')).strip()   \n",
    "        if text==\"\":\n",
    "            text = \"\".join(selector.xpath('//*[@id=\"Zoom\"]//text()')).strip()\n",
    "        if text==\"\":\n",
    "            text = \"\\n\".join(selector.xpath('/html/body/div[5]/div[5]/p/text()')).strip()    \n",
    "    except:\n",
    "        text = \"\"\n",
    "    try:\n",
    "        title = selector.xpath(\"/html/body/div[5]/div[1]/h1/text()\")[0].strip()\n",
    "    except:\n",
    "        try:\n",
    "            title = selector.xpath(\"/html/body/div[5]/h1/text()\")[0].strip()\n",
    "        except:\n",
    "            try:\n",
    "                title = selector.xpath(\"/html/body/div[3]/table[2]/tbody/tr/td[2]/table[1]/tbody/tr/td/table[1]/tbody/tr/td/table[2]/tbody/tr[1]/td/text()\")[0].strip()\n",
    "            except:\n",
    "                title = \"none\"\n",
    "    if (text!=\"\") & (title!=\"none\"):\n",
    "        try:\n",
    "            with open(title+\".txt\",\"w\") as f:\n",
    "                f.write(text)\n",
    "            print i #第几条url写出来了\n",
    "        except:\n",
    "            pass\n",
    "        "
   ]
  },
  {
   "cell_type": "markdown",
   "metadata": {},
   "source": [
    "### 爬取的新闻\n",
    "\n",
    "\n",
    "\n",
    "![](./pictures/news.jpg)"
   ]
  },
  {
   "cell_type": "markdown",
   "metadata": {},
   "source": [
    "### 3.批量读取新闻文本txt\n",
    "- 新闻文本示例"
   ]
  },
  {
   "cell_type": "code",
   "execution_count": 8,
   "metadata": {
    "collapsed": false
   },
   "outputs": [
    {
     "name": "stdout",
     "output_type": "stream",
     "text": [
      "TOKYO, March 29 (Xinhua) -- The U.S. dollar hovered in the upper 106 yen zone Thursday in Tokyo amid easing concerns over the Korean Peninsula issue.\n",
      "\n",
      "At 5:00 p.m., the dollar was quoted at 106.57-58 yen compared with 106.80-90 yen in New York and 105.46-48 yen in Tokyo at 5:00 p.m. Wednesday. It moved between 106.38 yen and 106.93 yen during the day.\n",
      "\n",
      "The euro was quoted at 1.2309-2310 dollars and 131.18-22 yen against 1.2304-2314 dollars and 131.43-53 yen in New York and 1.2398-2399 dollars and 130.75-79 yen in Tokyo late Wednesday afternoon.\n"
     ]
    }
   ],
   "source": [
    "with open(\"Dollar hovers in upper 106 yen amid easing geopolitical concerns.txt\",\"r\") as onefile:\n",
    "    for line in onefile.readlines():\n",
    "        print line"
   ]
  },
  {
   "cell_type": "markdown",
   "metadata": {},
   "source": [
    "- 批量保存在dataframe中，一列为标题，一列为内容"
   ]
  },
  {
   "cell_type": "code",
   "execution_count": 3,
   "metadata": {
    "collapsed": false
   },
   "outputs": [
    {
     "name": "stderr",
     "output_type": "stream",
     "text": [
      "C:\\Users\\situ\\Anaconda2\\lib\\site-packages\\ipykernel\\__main__.py:11: SettingWithCopyWarning: \n",
      "A value is trying to be set on a copy of a slice from a DataFrame\n",
      "\n",
      "See the caveats in the documentation: http://pandas.pydata.org/pandas-docs/stable/indexing.html#indexing-view-versus-copy\n",
      "C:\\Users\\situ\\Anaconda2\\lib\\site-packages\\pandas\\core\\indexing.py:141: SettingWithCopyWarning: \n",
      "A value is trying to be set on a copy of a slice from a DataFrame\n",
      "\n",
      "See the caveats in the documentation: http://pandas.pydata.org/pandas-docs/stable/indexing.html#indexing-view-versus-copy\n",
      "  self._setitem_with_indexer(indexer, value)\n"
     ]
    },
    {
     "data": {
      "text/html": [
       "<div>\n",
       "<table border=\"1\" class=\"dataframe\">\n",
       "  <thead>\n",
       "    <tr style=\"text-align: right;\">\n",
       "      <th></th>\n",
       "      <th>content</th>\n",
       "      <th>title</th>\n",
       "    </tr>\n",
       "  </thead>\n",
       "  <tbody>\n",
       "    <tr>\n",
       "      <th>0</th>\n",
       "      <td>China will host the 2019 Inter-American Develo...</td>\n",
       "      <td>2019 IADB meeting of board of governors to be ...</td>\n",
       "    </tr>\n",
       "    <tr>\n",
       "      <th>1</th>\n",
       "      <td>China's Hushen 300 index futures opened higher...</td>\n",
       "      <td>China Hushen 300 index futures open higher Thu...</td>\n",
       "    </tr>\n",
       "    <tr>\n",
       "      <th>2</th>\n",
       "      <td>China's Hushen 300 index futures opened mixed ...</td>\n",
       "      <td>China Hushen 300 index futures open mixed Monday</td>\n",
       "    </tr>\n",
       "    <tr>\n",
       "      <th>3</th>\n",
       "      <td>China on Monday launched trading of the yuan-d...</td>\n",
       "      <td>China launches crude oil futures trading</td>\n",
       "    </tr>\n",
       "    <tr>\n",
       "      <th>4</th>\n",
       "      <td>China's treasury bond futures closed lower on ...</td>\n",
       "      <td>China treasury bond futures close lower Tuesday</td>\n",
       "    </tr>\n",
       "  </tbody>\n",
       "</table>\n",
       "</div>"
      ],
      "text/plain": [
       "                                             content  \\\n",
       "0  China will host the 2019 Inter-American Develo...   \n",
       "1  China's Hushen 300 index futures opened higher...   \n",
       "2  China's Hushen 300 index futures opened mixed ...   \n",
       "3  China on Monday launched trading of the yuan-d...   \n",
       "4  China's treasury bond futures closed lower on ...   \n",
       "\n",
       "                                               title  \n",
       "0  2019 IADB meeting of board of governors to be ...  \n",
       "1  China Hushen 300 index futures open higher Thu...  \n",
       "2   China Hushen 300 index futures open mixed Monday  \n",
       "3           China launches crude oil futures trading  \n",
       "4    China treasury bond futures close lower Tuesday  "
      ]
     },
     "execution_count": 3,
     "metadata": {},
     "output_type": "execute_result"
    }
   ],
   "source": [
    "def batch_read_txt(filepath):\n",
    "    filenames = os.listdir(filepath)      #获取当前路径下的文件名，返回List\n",
    "    l = len(filenames)\n",
    "    title = [s.split(\".\")[0] for s in filenames]\n",
    "    news = pd.DataFrame({\"title\":title,\"content\":np.zeros(l)})\n",
    "    for i in range(l):\n",
    "        f = filenames[i]\n",
    "        full_filenames=os.path.join(filepath,f)     #将文件命加入到当前文件路径后面\n",
    "        with open(full_filenames,\"r\") as f2:\n",
    "            text = \"\".join(f2.readlines())\n",
    "            news[\"content\"][i] = text.split(\" -- \")[1]\n",
    "    return news\n",
    "os.chdir(\"E:/graduate/class/Statistical Case Studies/homework3/xinhua_news/\")\n",
    "news = batch_read_txt(os.getcwd())\n",
    "news.head(5)"
   ]
  },
  {
   "cell_type": "markdown",
   "metadata": {},
   "source": [
    "### 4.文本预处理\n",
    "- 去除数字、非英文字符、停用词、转换成小写、词形还原"
   ]
  },
  {
   "cell_type": "code",
   "execution_count": 4,
   "metadata": {
    "collapsed": false
   },
   "outputs": [
    {
     "data": {
      "text/html": [
       "<div>\n",
       "<table border=\"1\" class=\"dataframe\">\n",
       "  <thead>\n",
       "    <tr style=\"text-align: right;\">\n",
       "      <th></th>\n",
       "      <th>content</th>\n",
       "      <th>title</th>\n",
       "      <th>clean_text</th>\n",
       "    </tr>\n",
       "  </thead>\n",
       "  <tbody>\n",
       "    <tr>\n",
       "      <th>0</th>\n",
       "      <td>China will host the 2019 Inter-American Develo...</td>\n",
       "      <td>2019 IADB meeting of board of governors to be ...</td>\n",
       "      <td>china host interamerican development bank idb ...</td>\n",
       "    </tr>\n",
       "    <tr>\n",
       "      <th>1</th>\n",
       "      <td>China's Hushen 300 index futures opened higher...</td>\n",
       "      <td>China Hushen 300 index futures open higher Thu...</td>\n",
       "      <td>china hushen index future opened higher thursd...</td>\n",
       "    </tr>\n",
       "    <tr>\n",
       "      <th>2</th>\n",
       "      <td>China's Hushen 300 index futures opened mixed ...</td>\n",
       "      <td>China Hushen 300 index futures open mixed Monday</td>\n",
       "      <td>china hushen index future opened mixed monday ...</td>\n",
       "    </tr>\n",
       "    <tr>\n",
       "      <th>3</th>\n",
       "      <td>China on Monday launched trading of the yuan-d...</td>\n",
       "      <td>China launches crude oil futures trading</td>\n",
       "      <td>china monday launched trading yuandenominated ...</td>\n",
       "    </tr>\n",
       "    <tr>\n",
       "      <th>4</th>\n",
       "      <td>China's treasury bond futures closed lower on ...</td>\n",
       "      <td>China treasury bond futures close lower Tuesday</td>\n",
       "      <td>china treasury bond future closed lower tuesda...</td>\n",
       "    </tr>\n",
       "  </tbody>\n",
       "</table>\n",
       "</div>"
      ],
      "text/plain": [
       "                                             content  \\\n",
       "0  China will host the 2019 Inter-American Develo...   \n",
       "1  China's Hushen 300 index futures opened higher...   \n",
       "2  China's Hushen 300 index futures opened mixed ...   \n",
       "3  China on Monday launched trading of the yuan-d...   \n",
       "4  China's treasury bond futures closed lower on ...   \n",
       "\n",
       "                                               title  \\\n",
       "0  2019 IADB meeting of board of governors to be ...   \n",
       "1  China Hushen 300 index futures open higher Thu...   \n",
       "2   China Hushen 300 index futures open mixed Monday   \n",
       "3           China launches crude oil futures trading   \n",
       "4    China treasury bond futures close lower Tuesday   \n",
       "\n",
       "                                          clean_text  \n",
       "0  china host interamerican development bank idb ...  \n",
       "1  china hushen index future opened higher thursd...  \n",
       "2  china hushen index future opened mixed monday ...  \n",
       "3  china monday launched trading yuandenominated ...  \n",
       "4  china treasury bond future closed lower tuesda...  "
      ]
     },
     "execution_count": 4,
     "metadata": {},
     "output_type": "execute_result"
    }
   ],
   "source": [
    "wnl = WordNetLemmatizer()\n",
    "def clean_text(text):\n",
    "    text = text.encode(\"utf-8\").decode(\"utf-8\")\n",
    "    text = re.sub(\"\\d\",\"\",text)\n",
    "    text_seg = [re.sub(u'\\W', \"\", i) for i in nltk.word_tokenize(text)] \n",
    "    space_len = text_seg.count(u\"\")\n",
    "    for i in range(space_len):\n",
    "        text_seg.remove(u'')\n",
    "    filtered = [w.lower() for w in text_seg if w not in stopwords.words('english') and 3<=len(w)] \n",
    "    lemmatized= [wnl.lemmatize(w) for w in filtered] #词形还原\n",
    "    return \" \".join(lemmatized)\n",
    "\n",
    "news[\"clean_text\"] = map(clean_text,news[\"content\"])\n",
    "news.head(5)"
   ]
  },
  {
   "cell_type": "markdown",
   "metadata": {},
   "source": [
    "### 5.生成文本词频矩阵\n",
    "- 以scipy中稀疏矩阵的形式存储"
   ]
  },
  {
   "cell_type": "code",
   "execution_count": 5,
   "metadata": {
    "collapsed": false
   },
   "outputs": [
    {
     "data": {
      "text/plain": [
       "(41, 616)"
      ]
     },
     "execution_count": 5,
     "metadata": {},
     "output_type": "execute_result"
    }
   ],
   "source": [
    "content = [t for t in news[\"clean_text\"]]\n",
    "vectorizer=CountVectorizer(stop_words='english')\n",
    "count_word = vectorizer.fit_transform(content)\n",
    "count_word.shape#41篇文档, 616个词\n",
    "#vectorizer.vocabulary_#字典形式的词汇表\n",
    "#vectorizer.get_stop_words()\n",
    "#vectorizer.get_feature_names() #列表形式的词汇"
   ]
  },
  {
   "cell_type": "markdown",
   "metadata": {},
   "source": [
    "- 只选择词频大于5的词"
   ]
  },
  {
   "cell_type": "code",
   "execution_count": 6,
   "metadata": {
    "collapsed": false
   },
   "outputs": [
    {
     "data": {
      "text/plain": [
       "(41, 86)"
      ]
     },
     "execution_count": 6,
     "metadata": {},
     "output_type": "execute_result"
    }
   ],
   "source": [
    "vectorizer=CountVectorizer(stop_words='english',min_df=5)\n",
    "count_word = vectorizer.fit_transform(content)\n",
    "count_word.shape#41篇文档, 86个词"
   ]
  },
  {
   "cell_type": "markdown",
   "metadata": {},
   "source": [
    "- 经过手动微调后，生成文档词频矩阵"
   ]
  },
  {
   "cell_type": "code",
   "execution_count": 29,
   "metadata": {
    "collapsed": false
   },
   "outputs": [
    {
     "data": {
      "text/html": [
       "<div>\n",
       "<table border=\"1\" class=\"dataframe\">\n",
       "  <thead>\n",
       "    <tr style=\"text-align: right;\">\n",
       "      <th></th>\n",
       "      <th>dollar</th>\n",
       "      <th>percent</th>\n",
       "      <th>yen</th>\n",
       "      <th>point</th>\n",
       "      <th>index</th>\n",
       "      <th>trade</th>\n",
       "      <th>china</th>\n",
       "      <th>open</th>\n",
       "      <th>stock</th>\n",
       "      <th>contract</th>\n",
       "      <th>exchange</th>\n",
       "      <th>billion</th>\n",
       "      <th>tokyo</th>\n",
       "      <th>close</th>\n",
       "      <th>future</th>\n",
       "      <th>rate</th>\n",
       "      <th>yuan</th>\n",
       "      <th>lower</th>\n",
       "      <th>issue</th>\n",
       "      <th>higher</th>\n",
       "    </tr>\n",
       "  </thead>\n",
       "  <tbody>\n",
       "    <tr>\n",
       "      <th>0</th>\n",
       "      <td>0</td>\n",
       "      <td>0</td>\n",
       "      <td>0</td>\n",
       "      <td>0</td>\n",
       "      <td>0</td>\n",
       "      <td>2</td>\n",
       "      <td>3</td>\n",
       "      <td>0</td>\n",
       "      <td>0</td>\n",
       "      <td>0</td>\n",
       "      <td>1</td>\n",
       "      <td>0</td>\n",
       "      <td>0</td>\n",
       "      <td>0</td>\n",
       "      <td>0</td>\n",
       "      <td>0</td>\n",
       "      <td>0</td>\n",
       "      <td>0</td>\n",
       "      <td>0</td>\n",
       "      <td>0</td>\n",
       "    </tr>\n",
       "    <tr>\n",
       "      <th>1</th>\n",
       "      <td>0</td>\n",
       "      <td>4</td>\n",
       "      <td>0</td>\n",
       "      <td>4</td>\n",
       "      <td>3</td>\n",
       "      <td>0</td>\n",
       "      <td>2</td>\n",
       "      <td>5</td>\n",
       "      <td>0</td>\n",
       "      <td>6</td>\n",
       "      <td>1</td>\n",
       "      <td>0</td>\n",
       "      <td>0</td>\n",
       "      <td>0</td>\n",
       "      <td>3</td>\n",
       "      <td>0</td>\n",
       "      <td>0</td>\n",
       "      <td>0</td>\n",
       "      <td>0</td>\n",
       "      <td>5</td>\n",
       "    </tr>\n",
       "    <tr>\n",
       "      <th>2</th>\n",
       "      <td>0</td>\n",
       "      <td>4</td>\n",
       "      <td>0</td>\n",
       "      <td>4</td>\n",
       "      <td>3</td>\n",
       "      <td>0</td>\n",
       "      <td>2</td>\n",
       "      <td>5</td>\n",
       "      <td>0</td>\n",
       "      <td>6</td>\n",
       "      <td>1</td>\n",
       "      <td>0</td>\n",
       "      <td>0</td>\n",
       "      <td>0</td>\n",
       "      <td>3</td>\n",
       "      <td>0</td>\n",
       "      <td>0</td>\n",
       "      <td>1</td>\n",
       "      <td>0</td>\n",
       "      <td>3</td>\n",
       "    </tr>\n",
       "    <tr>\n",
       "      <th>3</th>\n",
       "      <td>0</td>\n",
       "      <td>0</td>\n",
       "      <td>0</td>\n",
       "      <td>0</td>\n",
       "      <td>0</td>\n",
       "      <td>0</td>\n",
       "      <td>2</td>\n",
       "      <td>0</td>\n",
       "      <td>0</td>\n",
       "      <td>1</td>\n",
       "      <td>1</td>\n",
       "      <td>0</td>\n",
       "      <td>0</td>\n",
       "      <td>0</td>\n",
       "      <td>2</td>\n",
       "      <td>0</td>\n",
       "      <td>0</td>\n",
       "      <td>0</td>\n",
       "      <td>0</td>\n",
       "      <td>0</td>\n",
       "    </tr>\n",
       "    <tr>\n",
       "      <th>4</th>\n",
       "      <td>1</td>\n",
       "      <td>2</td>\n",
       "      <td>0</td>\n",
       "      <td>0</td>\n",
       "      <td>0</td>\n",
       "      <td>0</td>\n",
       "      <td>2</td>\n",
       "      <td>0</td>\n",
       "      <td>0</td>\n",
       "      <td>4</td>\n",
       "      <td>1</td>\n",
       "      <td>0</td>\n",
       "      <td>0</td>\n",
       "      <td>0</td>\n",
       "      <td>3</td>\n",
       "      <td>0</td>\n",
       "      <td>2</td>\n",
       "      <td>3</td>\n",
       "      <td>0</td>\n",
       "      <td>0</td>\n",
       "    </tr>\n",
       "    <tr>\n",
       "      <th>5</th>\n",
       "      <td>1</td>\n",
       "      <td>3</td>\n",
       "      <td>0</td>\n",
       "      <td>0</td>\n",
       "      <td>0</td>\n",
       "      <td>0</td>\n",
       "      <td>2</td>\n",
       "      <td>0</td>\n",
       "      <td>0</td>\n",
       "      <td>4</td>\n",
       "      <td>1</td>\n",
       "      <td>0</td>\n",
       "      <td>0</td>\n",
       "      <td>0</td>\n",
       "      <td>3</td>\n",
       "      <td>0</td>\n",
       "      <td>3</td>\n",
       "      <td>1</td>\n",
       "      <td>0</td>\n",
       "      <td>2</td>\n",
       "    </tr>\n",
       "    <tr>\n",
       "      <th>6</th>\n",
       "      <td>1</td>\n",
       "      <td>2</td>\n",
       "      <td>0</td>\n",
       "      <td>0</td>\n",
       "      <td>0</td>\n",
       "      <td>0</td>\n",
       "      <td>2</td>\n",
       "      <td>2</td>\n",
       "      <td>0</td>\n",
       "      <td>4</td>\n",
       "      <td>1</td>\n",
       "      <td>0</td>\n",
       "      <td>0</td>\n",
       "      <td>0</td>\n",
       "      <td>3</td>\n",
       "      <td>0</td>\n",
       "      <td>2</td>\n",
       "      <td>3</td>\n",
       "      <td>0</td>\n",
       "      <td>0</td>\n",
       "    </tr>\n",
       "    <tr>\n",
       "      <th>7</th>\n",
       "      <td>1</td>\n",
       "      <td>3</td>\n",
       "      <td>0</td>\n",
       "      <td>0</td>\n",
       "      <td>0</td>\n",
       "      <td>0</td>\n",
       "      <td>2</td>\n",
       "      <td>3</td>\n",
       "      <td>0</td>\n",
       "      <td>4</td>\n",
       "      <td>1</td>\n",
       "      <td>0</td>\n",
       "      <td>0</td>\n",
       "      <td>1</td>\n",
       "      <td>3</td>\n",
       "      <td>0</td>\n",
       "      <td>3</td>\n",
       "      <td>2</td>\n",
       "      <td>0</td>\n",
       "      <td>1</td>\n",
       "    </tr>\n",
       "    <tr>\n",
       "      <th>8</th>\n",
       "      <td>5</td>\n",
       "      <td>0</td>\n",
       "      <td>0</td>\n",
       "      <td>0</td>\n",
       "      <td>0</td>\n",
       "      <td>8</td>\n",
       "      <td>3</td>\n",
       "      <td>0</td>\n",
       "      <td>0</td>\n",
       "      <td>0</td>\n",
       "      <td>1</td>\n",
       "      <td>5</td>\n",
       "      <td>0</td>\n",
       "      <td>0</td>\n",
       "      <td>0</td>\n",
       "      <td>0</td>\n",
       "      <td>0</td>\n",
       "      <td>0</td>\n",
       "      <td>0</td>\n",
       "      <td>0</td>\n",
       "    </tr>\n",
       "    <tr>\n",
       "      <th>9</th>\n",
       "      <td>5</td>\n",
       "      <td>0</td>\n",
       "      <td>0</td>\n",
       "      <td>0</td>\n",
       "      <td>0</td>\n",
       "      <td>0</td>\n",
       "      <td>1</td>\n",
       "      <td>0</td>\n",
       "      <td>0</td>\n",
       "      <td>0</td>\n",
       "      <td>1</td>\n",
       "      <td>4</td>\n",
       "      <td>0</td>\n",
       "      <td>0</td>\n",
       "      <td>0</td>\n",
       "      <td>0</td>\n",
       "      <td>0</td>\n",
       "      <td>0</td>\n",
       "      <td>0</td>\n",
       "      <td>0</td>\n",
       "    </tr>\n",
       "  </tbody>\n",
       "</table>\n",
       "</div>"
      ],
      "text/plain": [
       "   dollar  percent  yen  point  index  trade  china  open  stock  contract  \\\n",
       "0       0        0    0      0      0      2      3     0      0         0   \n",
       "1       0        4    0      4      3      0      2     5      0         6   \n",
       "2       0        4    0      4      3      0      2     5      0         6   \n",
       "3       0        0    0      0      0      0      2     0      0         1   \n",
       "4       1        2    0      0      0      0      2     0      0         4   \n",
       "5       1        3    0      0      0      0      2     0      0         4   \n",
       "6       1        2    0      0      0      0      2     2      0         4   \n",
       "7       1        3    0      0      0      0      2     3      0         4   \n",
       "8       5        0    0      0      0      8      3     0      0         0   \n",
       "9       5        0    0      0      0      0      1     0      0         0   \n",
       "\n",
       "   exchange  billion  tokyo  close  future  rate  yuan  lower  issue  higher  \n",
       "0         1        0      0      0       0     0     0      0      0       0  \n",
       "1         1        0      0      0       3     0     0      0      0       5  \n",
       "2         1        0      0      0       3     0     0      1      0       3  \n",
       "3         1        0      0      0       2     0     0      0      0       0  \n",
       "4         1        0      0      0       3     0     2      3      0       0  \n",
       "5         1        0      0      0       3     0     3      1      0       2  \n",
       "6         1        0      0      0       3     0     2      3      0       0  \n",
       "7         1        0      0      1       3     0     3      2      0       1  \n",
       "8         1        5      0      0       0     0     0      0      0       0  \n",
       "9         1        4      0      0       0     0     0      0      0       0  "
      ]
     },
     "execution_count": 29,
     "metadata": {},
     "output_type": "execute_result"
    }
   ],
   "source": [
    "def get_word_tf_mat(sparce_mat, feature_names):\n",
    "    arr = sparce_mat.toarray().T\n",
    "    word_tf = pd.DataFrame(arr,index = vectorizer.get_feature_names())\n",
    "    word_tf[\"tf\"] = np.sum(arr,axis=1)\n",
    "    word_tf = word_tf.sort_values(by=\"tf\",ascending=False)\n",
    "    return word_tf.T\n",
    "\n",
    "#word_tf = get_word_tf_mat(count_word, vectorizer.get_feature_names())\n",
    "#word_tf.to_csv(\"word_tf.csv\")     \n",
    "\n",
    "data = pd.read_csv(\"../word_tf_modified.csv\")      \n",
    "data.ix[:,:20].head(10)                 "
   ]
  },
  {
   "cell_type": "markdown",
   "metadata": {},
   "source": [
    "- 输出前20个高频词"
   ]
  },
  {
   "cell_type": "code",
   "execution_count": 28,
   "metadata": {
    "collapsed": false
   },
   "outputs": [
    {
     "name": "stdout",
     "output_type": "stream",
     "text": [
      "dollar      85\n",
      "percent     69\n",
      "yen         53\n",
      "point       42\n",
      "index       37\n",
      "trade       37\n",
      "china       36\n",
      "open        36\n",
      "stock       32\n",
      "contract    29\n",
      "exchange    28\n",
      "billion     25\n",
      "tokyo       25\n",
      "close       25\n",
      "future      22\n",
      "rate        19\n",
      "yuan        19\n",
      "lower       18\n",
      "issue       18\n",
      "higher      18\n",
      "Name: 41, dtype: int64\n"
     ]
    }
   ],
   "source": [
    "print data.ix[41,:20] "
   ]
  },
  {
   "cell_type": "markdown",
   "metadata": {},
   "source": [
    "### 6.根据词频绘制词云图"
   ]
  },
  {
   "cell_type": "code",
   "execution_count": 27,
   "metadata": {
    "collapsed": false
   },
   "outputs": [
    {
     "data": {
      "image/png": "[encoded data removed]",
      "text/plain": [
       "<matplotlib.figure.Figure at 0x16d7bac8>"
      ]
     },
     "metadata": {},
     "output_type": "display_data"
    }
   ],
   "source": [
    "import wordcloud\n",
    "import matplotlib.pyplot as plt\n",
    "from wordcloud import WordCloud, ImageColorGenerator\n",
    "import PIL.Image as Image\n",
    "\n",
    "tf = {data.columns[i]: data.ix[41,i] for i in range(len(data))} #词频统计词典\n",
    "coloring = np.array(Image.open(\"E:/graduate/class/Statistical Case Studies/homework3/pictures/jinbi.jpg\")) #图片\n",
    "\n",
    "my_wordcloud = WordCloud(background_color=\"white\", max_words=2000,\n",
    "                         mask=coloring, max_font_size=60, random_state=42, scale=2,\n",
    "                         font_path=os.environ.get(\"FONT_PATH\", \"C:/Windows/Fonts/simfang.ttf\"))\n",
    "my_wordcloud.fit_words(tf)\n",
    "image_colors = ImageColorGenerator(coloring)\n",
    "plt.figure(figsize=(18.5,10.5)) \n",
    "plt.imshow(my_wordcloud.recolor(color_func=image_colors))\n",
    "plt.xticks([]),plt.yticks([]) #隐藏坐标线 \n",
    "plt.axis(\"off\")\n",
    "plt.imshow(my_wordcloud)\n",
    "plt.show()"
   ]
  }
 ],
 "metadata": {
  "kernelspec": {
   "display_name": "Python 2",
   "language": "python",
   "name": "python2"
  },
  "language_info": {
   "codemirror_mode": {
    "name": "ipython",
    "version": 2
   },
   "file_extension": ".py",
   "mimetype": "text/x-python",
   "name": "python",
   "nbconvert_exporter": "python",
   "pygments_lexer": "ipython2",
   "version": "2.7.13"
  }
 },
 "nbformat": 4,
 "nbformat_minor": 2
}
