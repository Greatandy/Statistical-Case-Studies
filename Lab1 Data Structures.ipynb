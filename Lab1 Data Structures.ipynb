{
 "cells": [
  {
   "cell_type": "code",
   "execution_count": 2,
   "metadata": {
    "collapsed": true
   },
   "outputs": [],
   "source": [
    "import sys\n",
    "import os\n",
    "import nltk\n",
    "from nltk.corpus import stopwords\n",
    "import re\n",
    "import collections\n",
    "import numpy as np\n",
    "import csv\n",
    "import pandas as pd\n",
    "from scipy import linalg\n",
    "import matplotlib.pyplot as plt\n",
    "import seaborn as sns"
   ]
  },
  {
   "cell_type": "markdown",
   "metadata": {},
   "source": [
    "# 一、Part1 Of Lab1\n",
    "### 1.1 Read a text file\n",
    "- 文本数据为《baby I》的歌词"
   ]
  },
  {
   "cell_type": "code",
   "execution_count": 52,
   "metadata": {
    "collapsed": false
   },
   "outputs": [
    {
     "name": "stdout",
     "output_type": "stream",
     "text": [
      "Baby I got love for thee so deep inside of me\n",
      "\n",
      "I don't know where to start\n",
      "\n",
      "I love you more than anything\n",
      "\n",
      "But the words cant even touch what's in my heart\n",
      "\n",
      "When I try to explain it I be sounding insane\n",
      "\n",
      "The words don't ever come out right\n",
      "\n",
      "I get all tongue tied (and twisted)\n",
      "\n",
      "I can't explain what I'm feeling\n",
      "\n",
      "So I say baby baby baby\n",
      "\n",
      "Baby I (ooh baby oh baby my baby)\n",
      "\n",
      "\n"
     ]
    }
   ],
   "source": [
    "os.chdir(\"E:/graduate/class/applied_statistic_example_analysis/homework1\")\n",
    "f = open(\"Baby I - Ariana Grande.txt\")\n",
    "lyrics = f.readlines()\n",
    "f.close()\n",
    "print \"\".join(lyrics[:20])"
   ]
  },
  {
   "cell_type": "markdown",
   "metadata": {},
   "source": [
    "### 1.2 Do the necessary cleaning"
   ]
  },
  {
   "cell_type": "code",
   "execution_count": 12,
   "metadata": {
    "collapsed": false
   },
   "outputs": [
    {
     "data": {
      "text/plain": [
       "['baby', 'i', 'got', 'love', 'thee', 'deep', 'inside', 'i', 'nt', 'know']"
      ]
     },
     "execution_count": 12,
     "metadata": {},
     "output_type": "execute_result"
    }
   ],
   "source": [
    "#去掉\\n\n",
    "lyrics1 = [line.split(\"\\n\")[0] for line in lyrics if line not in [\"\\n\"]] \n",
    "#去掉非英文字符\n",
    "lyric_seg = [re.sub(u'\\W', \"\", i) for i in nltk.word_tokenize(\" \".join(lyrics1))] \n",
    "#去除停用词+转化成小写+去掉字符少于3的词\n",
    "filtered = [w.lower() for w in lyric_seg if w not in stopwords.words('english')] \n",
    "#去掉\"\"\n",
    "space_len = filtered.count(\"\")\n",
    "for i in range(space_len):\n",
    "    filtered.remove(\"\")\n",
    "filtered[:10]"
   ]
  },
  {
   "cell_type": "markdown",
   "metadata": {},
   "source": [
    "### 1.3 Convert to other format"
   ]
  },
  {
   "cell_type": "code",
   "execution_count": 11,
   "metadata": {
    "collapsed": false
   },
   "outputs": [
    {
     "name": "stdout",
     "output_type": "stream",
     "text": [
      "[['baby' '48']\n",
      " ['i' '44']\n",
      " ['say' '13']\n",
      " ['ooh' '10']\n",
      " ['words' '9']\n",
      " ['try' '8']\n",
      " ['m' '7']\n",
      " ['complicate' '6']\n",
      " ['everytime' '6']\n",
      " ['nt' '5']]\n"
     ]
    }
   ],
   "source": [
    "#词频统计,转化成矩阵\n",
    "word_count = np.array(collections.Counter(filtered).most_common())\n",
    "print word_count[:10]"
   ]
  },
  {
   "cell_type": "markdown",
   "metadata": {},
   "source": [
    "### 1.4 Export to csv format"
   ]
  },
  {
   "cell_type": "code",
   "execution_count": null,
   "metadata": {
    "collapsed": true
   },
   "outputs": [],
   "source": [
    "csvfile = open('word_count.csv','w') \n",
    "writer = csv.writer(csvfile)\n",
    "for row in word_count:\n",
    "    writer.writerow([row[0], row[1]])\n",
    "csvfile.close()"
   ]
  },
  {
   "cell_type": "markdown",
   "metadata": {},
   "source": [
    "# 二、Part2 Of Lab1\n",
    "### 2.1 Read a csv flie\n",
    "- 数据为鸢尾花数据集"
   ]
  },
  {
   "cell_type": "code",
   "execution_count": 5,
   "metadata": {
    "collapsed": false
   },
   "outputs": [
    {
     "data": {
      "text/plain": [
       "[['Sepal.Length', 'Sepal.Width', 'Petal.Length', 'Petal.Width', 'Species'],\n",
       " ['5.1', '3.5', '1.4', '0.2', 'setosa'],\n",
       " ['4.9', '3', '1.4', '0.2', 'setosa'],\n",
       " ['4.7', '3.2', '1.3', '0.2', 'setosa'],\n",
       " ['4.6', '3.1', '1.5', '0.2', 'setosa'],\n",
       " ['5', '3.6', '1.4', '0.2', 'setosa'],\n",
       " ['5.4', '3.9', '1.7', '0.4', 'setosa'],\n",
       " ['4.6', '3.4', '1.4', '0.3', 'setosa'],\n",
       " ['5', '3.4', '1.5', '0.2', 'setosa'],\n",
       " ['4.4', '2.9', '1.4', '0.2', 'setosa']]"
      ]
     },
     "execution_count": 5,
     "metadata": {},
     "output_type": "execute_result"
    }
   ],
   "source": [
    "os.chdir(\"E:/graduate/class/applied_statistic_example_analysis/homework1\")\n",
    "csvfile = open(\"iris.csv\")\n",
    "csvReader = csv.reader(csvfile)\n",
    "lines = []\n",
    "for line in csvReader:\n",
    "    lines.append(line)\n",
    "csvfile.close()\n",
    "lines[:10]"
   ]
  },
  {
   "cell_type": "markdown",
   "metadata": {},
   "source": [
    "### 2.2 Do the description"
   ]
  },
  {
   "cell_type": "code",
   "execution_count": 15,
   "metadata": {
    "collapsed": false
   },
   "outputs": [
    {
     "name": "stdout",
     "output_type": "stream",
     "text": [
      "Sepal.Length,Sepal.Width,Petal.Length,Petal.Width,Species的\n",
      "最大值：[7.9, 3.8, 6.4, 2.0]\n",
      "最小值：[4.3, 3.0, 1.1, 0.1]\n",
      "均值：[5.843333333333335, 3.057333333333334, 3.7580000000000027, 1.199333333333334]\n"
     ]
    }
   ],
   "source": [
    "X = [map(float,line[0:(len(line)-1)]) for line in lines[1:len(lines)]]\n",
    "X_T = map(list,zip(*X)) #转置\n",
    "Y = [line[len(line)-1] for line in lines[1:len(lines)]]\n",
    "print \",\".join(lines[0])+\"的\\n最大值：\"+str(max(X))+\"\\n最小值：\"+str(min(X))+\"\\n均值：\"+str(map(lambda a:sum(a)/len(a),X_T))"
   ]
  },
  {
   "cell_type": "code",
   "execution_count": 16,
   "metadata": {
    "collapsed": false
   },
   "outputs": [
    {
     "name": "stdout",
     "output_type": "stream",
     "text": [
      "{'setosa': 50, 'versicolor': 50, 'virginica': 50}\n"
     ]
    }
   ],
   "source": [
    "#统计各个类型数目\n",
    "Y_count= {}\n",
    "for i in Y:\n",
    "    if Y.count(i)>1:\n",
    "            Y_count[i] = Y.count(i)   \n",
    "print Y_count"
   ]
  },
  {
   "cell_type": "markdown",
   "metadata": {},
   "source": [
    "### 2.3 Convert it to dataframe"
   ]
  },
  {
   "cell_type": "code",
   "execution_count": 17,
   "metadata": {
    "collapsed": false
   },
   "outputs": [
    {
     "data": {
      "text/html": [
       "<div>\n",
       "<table border=\"1\" class=\"dataframe\">\n",
       "  <thead>\n",
       "    <tr style=\"text-align: right;\">\n",
       "      <th></th>\n",
       "      <th>Sepal.Length</th>\n",
       "      <th>Sepal.Width</th>\n",
       "      <th>Petal.Length</th>\n",
       "      <th>Petal.Width</th>\n",
       "      <th>Species</th>\n",
       "    </tr>\n",
       "  </thead>\n",
       "  <tbody>\n",
       "    <tr>\n",
       "      <th>0</th>\n",
       "      <td>5.1</td>\n",
       "      <td>3.5</td>\n",
       "      <td>1.4</td>\n",
       "      <td>0.2</td>\n",
       "      <td>setosa</td>\n",
       "    </tr>\n",
       "    <tr>\n",
       "      <th>1</th>\n",
       "      <td>4.9</td>\n",
       "      <td>3</td>\n",
       "      <td>1.4</td>\n",
       "      <td>0.2</td>\n",
       "      <td>setosa</td>\n",
       "    </tr>\n",
       "    <tr>\n",
       "      <th>2</th>\n",
       "      <td>4.7</td>\n",
       "      <td>3.2</td>\n",
       "      <td>1.3</td>\n",
       "      <td>0.2</td>\n",
       "      <td>setosa</td>\n",
       "    </tr>\n",
       "    <tr>\n",
       "      <th>3</th>\n",
       "      <td>4.6</td>\n",
       "      <td>3.1</td>\n",
       "      <td>1.5</td>\n",
       "      <td>0.2</td>\n",
       "      <td>setosa</td>\n",
       "    </tr>\n",
       "    <tr>\n",
       "      <th>4</th>\n",
       "      <td>5</td>\n",
       "      <td>3.6</td>\n",
       "      <td>1.4</td>\n",
       "      <td>0.2</td>\n",
       "      <td>setosa</td>\n",
       "    </tr>\n",
       "  </tbody>\n",
       "</table>\n",
       "</div>"
      ],
      "text/plain": [
       "  Sepal.Length Sepal.Width Petal.Length Petal.Width Species\n",
       "0          5.1         3.5          1.4         0.2  setosa\n",
       "1          4.9           3          1.4         0.2  setosa\n",
       "2          4.7         3.2          1.3         0.2  setosa\n",
       "3          4.6         3.1          1.5         0.2  setosa\n",
       "4            5         3.6          1.4         0.2  setosa"
      ]
     },
     "execution_count": 17,
     "metadata": {},
     "output_type": "execute_result"
    }
   ],
   "source": [
    "data = pd.DataFrame(lines[1:len(lines)],columns = lines[0])\n",
    "data.head(5)"
   ]
  },
  {
   "cell_type": "markdown",
   "metadata": {},
   "source": [
    "### 2.4 Try some linear algebra \n",
    "- 矩阵转置、逆、行列式值"
   ]
  },
  {
   "cell_type": "code",
   "execution_count": 24,
   "metadata": {
    "collapsed": false
   },
   "outputs": [
    {
     "name": "stdout",
     "output_type": "stream",
     "text": [
      "矩阵相乘：\n",
      "[[ 5223.85  2673.43  3483.76  1128.14]\n",
      " [ 2673.43  1430.4   1674.3    531.89]\n",
      " [ 3483.76  1674.3   2582.71   869.11]\n",
      " [ 1128.14   531.89   869.11   302.33]]\n",
      "矩阵的逆：\n",
      "[[ 0.05034014 -0.0564344  -0.04649057  0.04508845]\n",
      " [-0.0564344   0.06736108  0.04506042 -0.03745986]\n",
      " [-0.04649057  0.04506042  0.06696879 -0.09831163]\n",
      " [ 0.04508845 -0.03745986 -0.09831163  0.18358105]]\n",
      "行列式值：\n",
      "123607466.998\n"
     ]
    }
   ],
   "source": [
    "A = np.array(X)\n",
    "XX = A.T.dot(A)\n",
    "print \"矩阵相乘：\\n\"+str(XX) #matrix multiplication\n",
    "print \"矩阵的逆：\\n\"+str(linalg.inv(XX)) # inverse of a matrix\n",
    "print \"行列式值：\\n\"+str(linalg.det(XX))"
   ]
  },
  {
   "cell_type": "markdown",
   "metadata": {},
   "source": [
    "- 最小二乘和广义逆"
   ]
  },
  {
   "cell_type": "code",
   "execution_count": 28,
   "metadata": {
    "collapsed": false
   },
   "outputs": [
    {
     "data": {
      "image/png": "[encoded data removed]",
      "text/plain": [
       "<matplotlib.figure.Figure at 0x105f3278>"
      ]
     },
     "metadata": {},
     "output_type": "display_data"
    }
   ],
   "source": [
    "#查看相关图矩阵，找线性关系最强的两个变量做最小二乘估计\n",
    "f, ax = plt.subplots(figsize=(10, 7))\n",
    "plt.xticks(rotation='90')\n",
    "sns.heatmap(np.corrcoef(A.T), square=True, linewidths=.5, annot=True)\n",
    "plt.show()"
   ]
  },
  {
   "cell_type": "code",
   "execution_count": 46,
   "metadata": {
    "collapsed": false
   },
   "outputs": [
    {
     "data": {
      "image/png": "[encoded data removed]",
      "text/plain": [
       "<matplotlib.figure.Figure at 0x13129f60>"
      ]
     },
     "metadata": {},
     "output_type": "display_data"
    }
   ],
   "source": [
    "#最小二乘估计系数c\n",
    "c, resid, rank, sigma = linalg.lstsq(A[:,2][:, np.newaxis],A[:,3][:, np.newaxis])\n",
    "#拟合的回归曲线\n",
    "xi2 = np.r_[1:7:100j].reshape(100,1)\n",
    "yi2 = c*xi2\n",
    "#OLS估计的拟合曲线与真实值散点图\n",
    "plt.plot(A[:,2],A[:,3],\"o\",xi2,yi2)\n",
    "plt.axis([1,7,0,2.5])\n",
    "plt.xlabel('$x_i$')\n",
    "plt.title('Data fitting with linalg.lstsq')\n",
    "plt.show()"
   ]
  },
  {
   "cell_type": "markdown",
   "metadata": {},
   "source": [
    "- 特征值与特征向量"
   ]
  },
  {
   "cell_type": "code",
   "execution_count": 43,
   "metadata": {
    "collapsed": false
   },
   "outputs": [
    {
     "name": "stdout",
     "output_type": "stream",
     "text": [
      "4个特征值：(9208.30507031+0j)(315.454316577+0j)(11.9780429049+0j)(3.55257020348+0j)\n",
      "第1个特征向量是[ 0.75110816  0.38008617  0.51300886  0.16790754]\n",
      "第2个特征向量是[ 0.2841749   0.5467445  -0.70866455 -0.34367081]\n",
      "第3个特征向量是[ 0.50215472 -0.67524332 -0.05916621 -0.53701625]\n",
      "第4个特征向量是[ 0.32081425 -0.31725607 -0.48074507  0.75187165]\n",
      "每个特征向量的模为：[ 1.  1.  1.  1.]\n",
      "矩阵乘以特征向量的值-特征值乘以特征向量的值=9.10630860494e-12\n"
     ]
    }
   ],
   "source": [
    "A = np.array(X)\n",
    "XX = A.T.dot(A)\n",
    "la,v = linalg.eig(XX)\n",
    "l1,l2,l3,l4 = la\n",
    "print \"4个特征值：\"+str(l1)+str(l2)+str(l3)+str(l4)#eigenvalues\n",
    "for i in range(4):\n",
    "    print \"第\"+str(i+1)+\"个特征向量是\"+str(v[:,i])\n",
    "print \"每个特征向量的模为：\"+str(np.sum(abs(v**2),axis=0)) #eigenvectors are unitary\n",
    "v1 = np.array(v[:,0]).T\n",
    "print \"矩阵乘以特征向量的值-特征值乘以特征向量的值=\"+str(linalg.norm(XX.dot(v1)-l1*v1)) #check the computation"
   ]
  }
 ],
 "metadata": {
  "kernelspec": {
   "display_name": "Python 2",
   "language": "python",
   "name": "python2"
  },
  "language_info": {
   "codemirror_mode": {
    "name": "ipython",
    "version": 2
   },
   "file_extension": ".py",
   "mimetype": "text/x-python",
   "name": "python",
   "nbconvert_exporter": "python",
   "pygments_lexer": "ipython2",
   "version": "2.7.13"
  }
 },
 "nbformat": 4,
 "nbformat_minor": 2
}
