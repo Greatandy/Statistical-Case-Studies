{
 "cells": [
  {
   "cell_type": "markdown",
   "metadata": {},
   "source": [
    "# Lab3\n",
    "- 搜索“中美贸易战”相关新闻，按新闻事件顺序提取关键词"
   ]
  },
  {
   "cell_type": "code",
   "execution_count": 1,
   "metadata": {
    "collapsed": true
   },
   "outputs": [],
   "source": [
    "import os\n",
    "import pandas as pd\n",
    "import numpy as np\n",
    "import re\n",
    "import jieba\n",
    "from jieba.analyse import extract_tags\n",
    "import codecs"
   ]
  },
  {
   "cell_type": "markdown",
   "metadata": {},
   "source": [
    "### 1.批量读取文件"
   ]
  },
  {
   "cell_type": "code",
   "execution_count": 3,
   "metadata": {
    "collapsed": false
   },
   "outputs": [
    {
     "name": "stderr",
     "output_type": "stream",
     "text": [
      "C:\\Users\\situ\\Anaconda2\\lib\\site-packages\\ipykernel\\__main__.py:12: SettingWithCopyWarning: \n",
      "A value is trying to be set on a copy of a slice from a DataFrame\n",
      "\n",
      "See the caveats in the documentation: http://pandas.pydata.org/pandas-docs/stable/indexing.html#indexing-view-versus-copy\n"
     ]
    },
    {
     "data": {
      "text/html": [
       "<div>\n",
       "<table border=\"1\" class=\"dataframe\">\n",
       "  <thead>\n",
       "    <tr style=\"text-align: right;\">\n",
       "      <th></th>\n",
       "      <th>content</th>\n",
       "      <th>title</th>\n",
       "    </tr>\n",
       "  </thead>\n",
       "  <tbody>\n",
       "    <tr>\n",
       "      <th>0</th>\n",
       "      <td>﻿中国驻美使馆就301调查结果发表声明 望美方悬崖勒马\\n3月22日，美国总统特朗普依据“3...</td>\n",
       "      <td>0323</td>\n",
       "    </tr>\n",
       "    <tr>\n",
       "      <th>1</th>\n",
       "      <td>﻿中国不怕贸易战\\n中国不愿意打贸易战，贸易战没有赢家。但中国也不怕贸易战。”3月25日，中...</td>\n",
       "      <td>0325</td>\n",
       "    </tr>\n",
       "    <tr>\n",
       "      <th>2</th>\n",
       "      <td>﻿外交部回应“中美正就避免贸易战开展谈判”报道\\n针对有媒体称“中美正在静悄悄地就避免贸易战...</td>\n",
       "      <td>0328</td>\n",
       "    </tr>\n",
       "  </tbody>\n",
       "</table>\n",
       "</div>"
      ],
      "text/plain": [
       "                                             content title\n",
       "0  ﻿中国驻美使馆就301调查结果发表声明 望美方悬崖勒马\\n3月22日，美国总统特朗普依据“3...  0323\n",
       "1  ﻿中国不怕贸易战\\n中国不愿意打贸易战，贸易战没有赢家。但中国也不怕贸易战。”3月25日，中...  0325\n",
       "2  ﻿外交部回应“中美正就避免贸易战开展谈判”报道\\n针对有媒体称“中美正在静悄悄地就避免贸易战...  0328"
      ]
     },
     "execution_count": 3,
     "metadata": {},
     "output_type": "execute_result"
    }
   ],
   "source": [
    "#filepath = os.getcwd()\n",
    "def batch_read_txt(filepath):\n",
    "    filenames = os.listdir(filepath)      #获取当前路径下的文件名，返回List\n",
    "    l = len(filenames)\n",
    "    title = [s.split(\".\")[0] for s in filenames]\n",
    "    news = pd.DataFrame({\"title\":title,\"content\":np.zeros(l)})\n",
    "    for i in range(l):\n",
    "        f = filenames[i]\n",
    "        full_filenames=os.path.join(filepath,f)     #将文件命加入到当前文件路径后面\n",
    "        with open(full_filenames,\"r\") as f2:\n",
    "            text = \"\".join(f2.readlines())\n",
    "            news[\"content\"][i] = text\n",
    "    return news\n",
    "os.chdir(\"E:/graduate/class/Statistical Case Studies/homework4/text/\")\n",
    "news = batch_read_txt(os.getcwd())\n",
    "news"
   ]
  },
  {
   "cell_type": "markdown",
   "metadata": {},
   "source": [
    "### 2.提取所有文本数据"
   ]
  },
  {
   "cell_type": "code",
   "execution_count": 4,
   "metadata": {
    "collapsed": true
   },
   "outputs": [],
   "source": [
    "text=news[\"content\"] \n",
    "text = text.dropna() \n",
    "len(text)\n",
    "text=[i.decode('utf-8') for i in text] "
   ]
  },
  {
   "cell_type": "markdown",
   "metadata": {},
   "source": [
    "### 3.加载自定义词典"
   ]
  },
  {
   "cell_type": "code",
   "execution_count": 8,
   "metadata": {
    "collapsed": false
   },
   "outputs": [
    {
     "name": "stdout",
     "output_type": "stream",
     "text": [
      "['politics.txt', 'shibada.txt']\n"
     ]
    }
   ],
   "source": [
    "jieba_dict_path = \"C:/Users/situ/Anaconda2/Lib/site-packages/jieba/userdicts/\"\n",
    "dicts = os.listdir(jieba_dict_path)\n",
    "print dicts\n",
    "for i in range(len(dicts)):\n",
    "    jieba.load_userdict(os.path.join(jieba_dict_path,dicts[i].split(\".\")[0]+\".txt\"))                     "
   ]
  },
  {
   "cell_type": "markdown",
   "metadata": {},
   "source": [
    "### 4.分词"
   ]
  },
  {
   "cell_type": "code",
   "execution_count": 19,
   "metadata": {
    "collapsed": false
   },
   "outputs": [
    {
     "name": "stdout",
     "output_type": "stream",
     "text": [
      "﻿ 中国 不怕 贸易战 \n",
      " 中国 不 愿意 打 贸易战 ， 贸易战 没有 赢家 。 但 中国 也 不怕 贸易战 。 ” 3 月 25 日 ， 中国 商务部 部长 钟山 应约 会见 美国 鲍尔森 基金会 主席 、 前 财长 鲍尔森 时说 。 \n",
      " \n",
      " 美 东 时间 3 月 22 日 ， 美 总统 特朗普 签署 备忘录 ， 基于 美 贸易 代表 办公室 公布 的 对华 301 调查报告 ， 指令 有关 部门 对华 采取 限制 措施 。 美方 的 单边主义 行动 引发 广泛 关注 和 讨论 。 \n",
      " \n",
      " “ 美中关系 是 本世纪 最 重要 的 双边关系 ， 美 中 合作 才能 推动 全球 经济 增长 。 ” 鲍尔森 说 ， 如果 双方 在 经贸 领域 出现 问题 ， 在 其它 领域 只会 更加 麻烦 。 \n",
      " \n",
      " 许多 业内人士 一致 认为 ， 经贸关系 是 中美关系 的 压舱 石 和 推进器 。 如果 两国 在 经贸 领域 保持 合作 的 态势 ， 对 两国 和 世界 各国 人民 都 将 带来 福祉 。 \n",
      " \n",
      " “ 中 美 贸易 关系 是 互利 双赢 的 关系 ， 中 美 建交 到 今天 ， 两 国 贸易 已 增长 230 多倍 ， 这为 增加 美国 就业 、 降低 美国 通货膨胀 以及 美国 寻找 海外 市场 都 起到 非常 重要 的 作用 。 ” 商务部 副 部长 王受 文 25 日 在 2018 中国 发展 高层论坛 上 表示 。 \n",
      " \n",
      " 在 外界 看来 ， 相对 于 中美 经贸关系 的 体量 ， 出现 一些 贸易 摩擦 是 难以避免 的 ， 关键在于 如何 处理 摩擦 和 矛盾 。 让 很多 人 不解 的 是 ， 美国 301 调查 放弃 了 世贸组织 的 共同 规则 ， 一意孤行 选择 了 的 单边主义 和 贸易 保护主义 。 \n",
      " \n",
      " “ 美国 对 中国 采取 的 行为 并 不 可取 ， 令人 失望 。 ” 美国 安利 公司总裁 德 · 狄维士 在 2018 中国 发展 高层论坛 上 接受 采访 时 表示 ， 中美 两国 在 某些 经济 领域 或许 存在 不同 意见 ， 但 两国 经贸关系 不该 因此 遭受 重创 ， 而应 通过 对话 解决问题 。 “ 中 美 贸易 的 重要性 不容忽视 ， 符合规范 的 公平 自由贸易 理应 得到 支持 。 ” \n",
      " \n",
      " 很多 人 认为 ， 美国 近来 在 贸易 领域 发起 的 多 起 调查 带有 明显 针对性 。 王受 文说 ， 以 美国 对 中国 钢铁 和 铝 产品 进行 的 “ 232 ” 调查 为例 ， 中国 对 美国 出口 钢铁 产品 占 美国进口 的 比例 不到 3% ， 这么 低 的 比例 怎能 对 美国 国家 安全 造成 威胁 呢 ？ 如果 美国 “ 232 ” 调查 是 基于 国家 安全 ， 为什么 要 对 那么 多 国家 进行 豁免 ？ 而且 豁免 的 目的 是 为了 在 其他 谈判 里 获得 更好 的 谈判 地位 。 “ 我们 认为 ， 232 调查 违背 世贸组织 规则 ， 不 符合 美国 的 利益 ， 更 不 符合中国 的 利益 。 ” \n",
      " \n",
      " 不少 企业家 和 业内人士 关心 ， 针对 美方 咄咄逼人 的 举措 ， 中方 会 不会 采取相应 行动 ？ 中 美 之间 近期 会 不会 爆发 贸易战 ？ \n",
      " \n",
      " “ 美国 工商界 是 支持 美中关系 发展 的 重要 力量 ， 不 希望 美 中 发生 贸易战 。 ” 鲍尔森 说 。 “ 不 希望 发生 贸易战 ” ， 也 代表 了 广大 企业界 等 “ 市场 的 声音 ” 。 \n",
      " \n",
      " 事实上 ， 中国 已 多次 表明 “ 不愿 打 贸易战 ” 的 态度 ， 因为 “ 贸易战 没有 赢家 ” 。 钟山 表示 ， 合作 是 中美 两国 唯一 正确 的 选择 。 中 美 双向 贸易 和 投资 能 达到 今天 的 规模 ， 证明 两 国 对话 合作 是 有效 的 。 \n",
      " \n",
      " 当然 ， 中方 不 希望 打 贸易战 ， 但 绝不 害怕 贸易战 。 “ 任何 情况 下 ， 中方 都 不会 坐视 自身 合法权益 受到 损害 ， 我们 已 做好 充分准备 ， 坚决 捍卫 自身 合法利益 。 ” 商务部 新闻 发言人 的 这 一 表述 已经 非常 明确 。 \n",
      " \n",
      " 走 到 悬崖 边 的 美方 ， 若能 及时 勒马 ， 中 美 经贸关系 或能 回到 正轨 。 若 美方 执意 在 单边主义 的 歪 路上 走 下去 ， 中方 也 有 信心 、 有 能力 应对 任何 挑战 。 \n",
      " \n",
      " “ 来而不往非礼也 。 ” 瑞华 会计师 事务所 管理 合伙人 张连起 说 ， 如果 中美 打 贸易战 ， 中国 可以 选择 在 大豆 、 玉米 和 猪肉 等 农产品 领域 集中 精准 有效 反击 。 特朗普 能够 赢得 大选 ， 很大 程度 就是 依靠 农业 州 的 支持率 。 中方 将 关税 矛头 对准 农产品 ， 具有 “ 点穴 ” 效果 。 相比之下 ， 中国 很 容易 找到 进口 替代国 。 \n",
      " \n",
      " “ 中方 目前 的 态度 比较 克制 ， 但 并 不 代表 没有 好牌 。 ” 上海财经大学 公共政策 与 治理 研究院 院长 胡怡建 认为 ， 贸易战 会 发展 到 什么 程度 ， 要 看 美国 走到 哪 一步 。 中国 要 反击 这场 贸易战 的 “ 牌 ” 有 不少 ， 从 大豆 到 汽车 、 飞机 ， 可以 打出 组合拳 来 回击 ， 这些 商品 的 可 替代性 都 比较 强 。 \n",
      " \n",
      " “ 对于 美方 挑起 的 贸易战 ， 我们 完全 有 底气 采取 强有力 措施 精准 还击 。 ” 中国人民大学 重阳 金融 研究院 高级 研究员 董希淼 说 ， 作为 全球 第二 大 经济体 ， 中国 可以 在 对 七类 、 128 个 税项 美国 进口产品 加征 关税 之外 ， 同时 采取 更加 精准 的 反制 措施 ， 打 到 美国 经济 政治 的 “ 七寸 ” 。\n"
     ]
    }
   ],
   "source": [
    "def segment(one_text):\n",
    "    one_seg_list = jieba.cut(one_text ,cut_all = False)       \n",
    "    return \" \".join(one_seg_list)   \n",
    "\n",
    "seg = map(segment,text)     \n",
    "print seg[1]"
   ]
  },
  {
   "cell_type": "markdown",
   "metadata": {},
   "source": [
    "### 6.添加自定义词汇"
   ]
  },
  {
   "cell_type": "code",
   "execution_count": 31,
   "metadata": {
    "collapsed": false
   },
   "outputs": [
    {
     "name": "stdout",
     "output_type": "stream",
     "text": [
      "﻿ 中国 不怕 贸易战 \n",
      " 中国 不 愿意 打 贸易战 ， 贸易战 没有 赢家 。 但 中国 也 不怕 贸易战 。 ” 3 月 25 日 ， 中国 商务部 部长 钟山 应约 会见 美国 鲍尔森 基金会 主席 、 前 财长 鲍尔森 时说 。 \n",
      " \n",
      " 美 东 时间 3 月 22 日 ， 美 总统 特朗普 签署 备忘录 ， 基于 美 贸易 代表 办公室 公布 的 对华 301 调查报告 ， 指令 有关 部门 对华 采取 限制 措施 。 美方 的 单边主义 行动 引发 广泛 关注 和 讨论 。 \n",
      " \n",
      " “ 美中关系 是 本世纪 最 重要 的 双边关系 ， 美中合作 才能 推动 全球 经济 增长 。 ” 鲍尔森 说 ， 如果 双方 在 经贸 领域 出现 问题 ， 在 其它 领域 只会 更加 麻烦 。 \n",
      " \n",
      " 许多 业内人士 一致 认为 ， 经贸关系 是 中美关系 的 压舱 石 和 推进器 。 如果 两国 在 经贸 领域 保持 合作 的 态势 ， 对 两国 和 世界 各国 人民 都 将 带来 福祉 。 \n",
      " \n",
      " “ 中美贸易 关系 是 互利双赢 的 关系 ， 中美建交 到 今天 ， 两 国 贸易 已 增长 230 多倍 ， 这为 增加 美国 就业 、 降低 美国 通货膨胀 以及 美国 寻找 海外 市场 都 起到 非常 重要 的 作用 。 ” 商务部 副 部长 王受文 25 日 在 2018 中国 发展 高层论坛 上 表示 。 \n",
      " \n",
      " 在 外界 看来 ， 相对 于 中美 经贸关系 的 体量 ， 出现 一些 贸易 摩擦 是 难以避免 的 ， 关键在于 如何 处理 摩擦 和 矛盾 。 让 很多 人 不解 的 是 ， 美国 301 调查 放弃 了 世贸组织 的 共同 规则 ， 一意孤行 选择 了 的 单边主义 和 贸易保护主义 。 \n",
      " \n",
      " “ 美国 对 中国 采取 的 行为 并 不 可取 ， 令人 失望 。 ” 美国 安利 公司总裁 德 · 狄维士 在 2018 中国 发展 高层论坛 上 接受 采访 时 表示 ， 中美 两国 在 某些 经济 领域 或许 存在 不同 意见 ， 但 两国 经贸关系 不该 因此 遭受 重创 ， 而应 通过 对话 解决问题 。 “ 中美贸易 的 重要性 不容忽视 ， 符合规范 的 公平 自由贸易 理应 得到 支持 。 ” \n",
      " \n",
      " 很多 人 认为 ， 美国 近来 在 贸易 领域 发起 的 多 起 调查 带有 明显 针对性 。 王受文 说 ， 以 美国 对 中国 钢铁 和 铝 产品 进行 的 “ 232 ” 调查 为例 ， 中国 对 美国 出口 钢铁 产品 占 美国进口 的 比例 不到 3% ， 这么 低 的 比例 怎能 对 美国 国家 安全 造成 威胁 呢 ？ 如果 美国 “ 232 ” 调查 是 基于 国家 安全 ， 为什么 要 对 那么 多 国家 进行 豁免 ？ 而且 豁免 的 目的 是 为了 在 其他 谈判 里 获得 更好 的 谈判 地位 。 “ 我们 认为 ， 232 调查 违背 世贸组织 规则 ， 不 符合 美国 的 利益 ， 更 不 符合中国 的 利益 。 ” \n",
      " \n",
      " 不少 企业家 和 业内人士 关心 ， 针对 美方 咄咄逼人 的 举措 ， 中方 会 不会 采取相应 行动 ？ 中美 之间 近期 会 不会 爆发 贸易战 ？ \n",
      " \n",
      " “ 美国 工商界 是 支持 美中关系 发展 的 重要 力量 ， 不 希望 美中 发生 贸易战 。 ” 鲍尔森 说 。 “ 不 希望 发生 贸易战 ” ， 也 代表 了 广大 企业界 等 “ 市场 的 声音 ” 。 \n",
      " \n",
      " 事实上 ， 中国 已 多次 表明 “ 不愿 打 贸易战 ” 的 态度 ， 因为 “ 贸易战 没有 赢家 ” 。 钟山 表示 ， 合作 是 中美 两 国 唯一 正确 的 选择 。 中美 双向 贸易 和 投资 能 达到 今天 的 规模 ， 证明 两 国 对话 合作 是 有效 的 。 \n",
      " \n",
      " 当然 ， 中方 不 希望 打 贸易战 ， 但 绝不 害怕 贸易战 。 “ 任何 情况 下 ， 中方 都 不会 坐视 自身 合法权益 受到 损害 ， 我们 已 做好 充分准备 ， 坚决 捍卫 自身 合法利益 。 ” 商务部 新闻 发言人 的 这 一 表述 已经 非常 明确 。 \n",
      " \n",
      " 走 到 悬崖 边 的 美方 ， 若能 及时 勒马 ， 中美 经贸关系 或能 回到 正轨 。 若 美方 执意 在 单边主义 的 歪 路上 走 下去 ， 中方 也 有 信心 、 有 能力 应对 任何 挑战 。 \n",
      " \n",
      " “ 来而不往非礼也 。 ” 瑞华 会计师 事务所 管理 合伙人 张连起 说 ， 如果 中美 打 贸易战 ， 中国 可以 选择 在 大豆 、 玉米 和 猪肉 等 农产品 领域 集中 精准 有效 反击 。 特朗普 能够 赢得 大选 ， 很大 程度 就是 依靠 农业 州 的 支持率 。 中方 将 关税 矛头 对准 农产品 ， 具有 “ 点穴 ” 效果 。 相比之下 ， 中国 很 容易 找到 进口 替代国 。 \n",
      " \n",
      " “ 中方 目前 的 态度 比较 克制 ， 但 并 不 代表 没有 好牌 。 ” 上海财经大学 公共政策 与 治理 研究院 院长 胡怡建 认为 ， 贸易战 会 发展 到 什么 程度 ， 要 看 美国 走到 哪 一步 。 中国 要 反击 这场 贸易战 的 “ 牌 ” 有 不少 ， 从 大豆 到 汽车 、 飞机 ， 可以 打出 组合拳 来 回击 ， 这些 商品 的 可 替代性 都 比较 强 。 \n",
      " \n",
      " “ 对于 美方 挑起 的 贸易战 ， 我们 完全 有 底气 采取 强有力 措施 精准 还击 。 ” 中国人民大学 重阳 金融 研究院 高级 研究员 董希淼 说 ， 作为 全球 第二 大 经济体 ， 中国 可以 在 对 七类 、 128 个 税项 美国 进口产品 加征 关税 之外 ， 同时 采取 更加 精准 的 反制 措施 ， 打 到 美国 经济 政治 的 “ 七寸 ” 。\n"
     ]
    }
   ],
   "source": [
    "jieba.add_word('互利双赢')\n",
    "jieba.add_word('互利共赢')\n",
    "jieba.add_word('合作共赢')\n",
    "jieba.add_word('美中')\n",
    "jieba.add_word('中美')\n",
    "jieba.add_word('王受文')\n",
    "jieba.add_word('中美建交')\n",
    "jieba.add_word('中美贸易')\n",
    "jieba.add_word('贸易保护主义')\n",
    "seg = map(segment,text)     \n",
    "print seg[1]"
   ]
  },
  {
   "cell_type": "markdown",
   "metadata": {},
   "source": [
    "### 5.去除字母、数字、标点、停用词"
   ]
  },
  {
   "cell_type": "code",
   "execution_count": 32,
   "metadata": {
    "collapsed": false
   },
   "outputs": [
    {
     "name": "stdout",
     "output_type": "stream",
     "text": [
      "﻿ 中国 贸易战 中国 贸易战 贸易战 赢家 中国 贸易战 中国 商务部 部长 钟山 应约 会见 美国 鲍尔森 基金会 主席 前 财长 鲍尔森 时说 美 东 时间 美 总统 特朗普 签署 备忘录 美 贸易 代表 办公室 公布 对华 调查报告 指令 部门 对华 措施 美方 单边主义 引发 关注 讨论 美中关系 本世纪 双边关系 美中合作 推动 全球 经济 增长 鲍尔森 说 经贸 领域 领域 只会 麻烦 业内人士 经贸关系 中美关系 压舱 石 推进器 两国 经贸 领域 合作 态势 两国 世界 各国 人民 带来 福祉 中美贸易 关系 互利双赢 关系 中美建交 两 国 贸易 增长 多倍 这为 增加 美国 就业 降低 美国 通货膨胀 美国 寻找 海外 市场 起到 作用 商务部 副 部长 王受文 中国 发展 高层论坛 外界 中美 经贸关系 体量 贸易 摩擦 难以避免 关键在于 摩擦 矛盾 不解 美国 调查 放弃 世贸组织 规则 一意孤行 选择 单边主义 贸易保护主义 美国 中国 可取 令人 失望 美国 安利 公司总裁 德 狄维士 中国 发展 高层论坛 接受 采访 中美 两国 经济 领域 意见 两国 经贸关系 不该 遭受 重创 而应 对话 解决问题 中美贸易 重要性 不容忽视 符合规范 公平 自由贸易 支持 美国 贸易 领域 发起 调查 带有 针对性 王受文 说 美国 中国 钢铁 铝 产品 调查 为例 中国 美国 出口 钢铁 产品 占 美国进口 比例 不到 低 比例 怎能 美国 国家 威胁 美国 调查 国家 国家 豁免 豁免 目的 谈判 里 更好 谈判 地位 调查 违背 世贸组织 规则 符合 美国 利益 符合中国 利益 企业家 业内人士 关心 美方 咄咄逼人 举措 中方 采取相应 中美 之间 近期 爆发 贸易战 美国 工商界 支持 美中关系 发展 力量 希望 美中 发生 贸易战 鲍尔森 说 希望 发生 贸易战 代表 企业界 市场 声音 事实上 中国 不愿 贸易战 态度 贸易战 赢家 钟山 合作 中美 两 国 唯一 正确 选择 中美 双向 贸易 投资 规模 证明 两 国 对话 合作 中方 希望 贸易战 害怕 贸易战 情况 中方 坐视 合法权益 损害 做好 充分准备 捍卫 合法利益 商务部 新闻 发言人 表述 走 悬崖 美方 若能 勒马 中美 经贸关系 或能 回到 正轨 美方 执意 单边主义 歪 路上 走 中方 信心 能力 应对 挑战 来而不往非礼也 瑞华 会计师 事务所 管理 合伙人 张连起 说 中美 贸易战 中国 选择 大豆 玉米 猪肉 农产品 领域 精准 反击 特朗普 赢得 大选 很大 程度 农业 州 支持率 中方 关税 矛头 对准 农产品 点穴 效果 相比之下 中国 找到 进口 替代国 中方 态度 克制 代表 好牌 上海财经大学 公共政策 治理 研究院 院长 胡怡建 贸易战 发展 程度 美国 走到 一步 中国 反击 这场 贸易战 牌 大豆 汽车 飞机 打出 组合拳 回击 商品 替代性 强 美方 挑起 贸易战 底气 强有力 措施 精准 还击 中国人民大学 重阳 金融 研究院 高级 研究员 董希淼 说 全球 经济体 中国 七类 税项 美国 进口产品 加征 关税 之外 精准 反制 措施 美国 经济 政治 七寸\n"
     ]
    }
   ],
   "source": [
    "stoplist = codecs.open(\"E:/graduate/class/distributed/feng.li/final/stopword.txt\",'r',encoding='gbk').readlines()  \n",
    "stoplist = set(w.strip() for w in stoplist)  \n",
    "def filterStopWords(line):\n",
    "    line = re.sub(r\"[\\n\\da-zA-Z+%（）“”.，。、？·]\".decode(\"utf8\"), \"\".decode(\"utf8\"),line)\n",
    "    line1 = line.split(\" \")\n",
    "    for j in range(line1.count(u'')):\n",
    "        line1.remove(u'')\n",
    "    for j in range(line1.count(u'\\n')):\n",
    "        line1.remove(u'')\n",
    "    newline = []\n",
    "    for i in line1:\n",
    "        if i not in stoplist: #千万不能用 in+remove！！！一定要not in +append！！！！\n",
    "            newline.append(i)\n",
    "    return newline\n",
    "rmstopwords = map(filterStopWords,seg)\n",
    "print \" \".join(rmstopwords[1])"
   ]
  },
  {
   "cell_type": "markdown",
   "metadata": {},
   "source": [
    "### 6.提取关键词"
   ]
  },
  {
   "cell_type": "code",
   "execution_count": 33,
   "metadata": {
    "collapsed": false
   },
   "outputs": [
    {
     "name": "stdout",
     "output_type": "stream",
     "text": [
      "\n",
      "第1篇新闻的关键词：\n",
      "美方\n",
      "崔天凯\n",
      "贸易战\n",
      "美国\n",
      "中美\n",
      "知识产权\n",
      "中方\n",
      "中国\n",
      "强硬\n",
      "执意\n",
      "驻美\n",
      "奉陪到底\n",
      "共赢\n",
      "贸易保护主义\n",
      "悬崖勒马\n",
      "\n",
      "第2篇新闻的关键词：\n",
      "贸易战\n",
      "美国\n",
      "中美\n",
      "鲍尔森\n",
      "中方\n",
      "美方\n",
      "中国\n",
      "经贸关系\n",
      "单边主义\n",
      "领域\n",
      "贸易\n",
      "特朗普\n",
      "精准\n",
      "调查\n",
      "中美贸易\n",
      "\n",
      "第3篇新闻的关键词：\n",
      "磋商\n",
      "谈判\n",
      "华春莹\n",
      "开放\n",
      "贸易战\n",
      "非歧视\n",
      "互利双赢\n",
      "应该是\n",
      "中方\n",
      "营商\n",
      "中美\n",
      "商业活动\n",
      "美方\n",
      "外交部\n",
      "静悄悄\n"
     ]
    }
   ],
   "source": [
    "def get_kw(text):\n",
    "    return extract_tags(text, topK=15, withWeight=False, allowPOS=())\n",
    "clean_text = [\" \".join(i) for i in  rmstopwords]\n",
    "news_kw = map(get_kw,clean_text )\n",
    "\n",
    "for j in range(len(news_kw)):\n",
    "    print \"\\n第\"+str(j+1)+\"篇新闻的关键词：\\n\",\n",
    "    for i in range(len(news_kw[j])):\n",
    "        print news_kw[j][i]\n",
    "\n",
    "#不足之处：应该根据文章内容添加特殊词汇"
   ]
  }
 ],
 "metadata": {
  "kernelspec": {
   "display_name": "Python 2",
   "language": "python",
   "name": "python2"
  },
  "language_info": {
   "codemirror_mode": {
    "name": "ipython",
    "version": 2
   },
   "file_extension": ".py",
   "mimetype": "text/x-python",
   "name": "python",
   "nbconvert_exporter": "python",
   "pygments_lexer": "ipython2",
   "version": "2.7.13"
  }
 },
 "nbformat": 4,
 "nbformat_minor": 2
}
