{
 "cells": [
  {
   "cell_type": "markdown",
   "metadata": {},
   "source": [
    "# 一、Part1 Of Lab2"
   ]
  },
  {
   "cell_type": "code",
   "execution_count": 1,
   "metadata": {
    "collapsed": true
   },
   "outputs": [],
   "source": [
    "import numpy as np\n",
    "from scipy.optimize import minimize\n",
    "from scipy.stats import norm"
   ]
  },
  {
   "cell_type": "markdown",
   "metadata": {},
   "source": [
    "### 1.1生成正态分布随机数 \n",
    "\n",
    "生成1994个均值为21，标准差为9，1994个"
   ]
  },
  {
   "cell_type": "code",
   "execution_count": 2,
   "metadata": {
    "collapsed": true
   },
   "outputs": [],
   "source": [
    "np.random.seed(1994)\n",
    "X = np.random.normal(21,9,1994)"
   ]
  },
  {
   "cell_type": "markdown",
   "metadata": {},
   "source": [
    "### 1.2定义对数极大似然函数\n",
    "    \n",
    "theta为【均值，标准差】"
   ]
  },
  {
   "cell_type": "code",
   "execution_count": 3,
   "metadata": {
    "collapsed": true
   },
   "outputs": [],
   "source": [
    "def loglikelyhood(theta,X=X):\n",
    "    return -sum(norm.logpdf(X,theta[0],theta[1]))"
   ]
  },
  {
   "cell_type": "markdown",
   "metadata": {},
   "source": [
    "### 1.3给定参数初值，最小化负的对数极大似然函数\n",
    "\n",
    "最大化对数极大似然函数，得到使得对数极大似然函数最大的theta"
   ]
  },
  {
   "cell_type": "code",
   "execution_count": 4,
   "metadata": {
    "collapsed": false
   },
   "outputs": [
    {
     "name": "stdout",
     "output_type": "stream",
     "text": [
      "Optimization terminated successfully.\n",
      "         Current function value: 7290.726666\n",
      "         Iterations: 115\n",
      "         Function evaluations: 232\n",
      "[ 21.12629597   9.36888224]\n"
     ]
    }
   ],
   "source": [
    "theta0=[0,1]#设theta的初始值为[0,1]\n",
    "res = minimize(loglikelyhood,theta0, method='nelder-mead', options={'xtol': 1e-8, 'disp': True})\n",
    "print(res.x) #[ 21.12629597   9.36888224]"
   ]
  },
  {
   "cell_type": "markdown",
   "metadata": {},
   "source": [
    "# 二、Part2 Of Lab1"
   ]
  },
  {
   "cell_type": "code",
   "execution_count": 5,
   "metadata": {
    "collapsed": true
   },
   "outputs": [],
   "source": [
    "import numpy as np\n",
    "import os\n",
    "import re\n",
    "import csv"
   ]
  },
  {
   "cell_type": "markdown",
   "metadata": {},
   "source": [
    "### 2.1读入2018年政府工作报告txt文件"
   ]
  },
  {
   "cell_type": "code",
   "execution_count": 6,
   "metadata": {
    "collapsed": false
   },
   "outputs": [
    {
     "data": {
      "text/plain": [
       "['各位代表：\\n',\n",
       " '\\n',\n",
       " '现在，我代表国务院，向大会报告过去五年政府工作，对今年工作提出建议，请予审议，并请全国政协委员提出意见。\\n',\n",
       " '\\n',\n",
       " '一、过去五年工作回顾\\n',\n",
       " '\\n',\n",
       " '第十二届全国人民代表大会第一次会议以来的五年，是我国发展进程中极不平凡的五年。面对极其错综复杂的国内外形势，以习近平同志为核心的党中央团结带领全国各族人民砥砺前行，统筹推进“五位一体”总体布局，协调推进“四个全面”战略布局，改革开放和社会主义现代化建设全面开创新局面。党的十九大确立了习近平新时代中国特色社会主义思想的历史地位，制定了决胜全面建成小康社会、夺取新时代中国特色社会主义伟大胜利的宏伟蓝图和行动纲领，具有重大现实意义和深远历史意义。各地区各部门不断增强政治意识、大局意识、核心意识、看齐意识，深入贯彻落实新发展理念，“十二五”规划胜利完成，“十三五”规划顺利实施，经济社会发展取得历史性成就、发生历史性变革。\\n',\n",
       " '\\n',\n",
       " '五年来，经济实力跃上新台阶。国内生产总值从54万亿元增加到82.7万亿元，年均增长7.1%，占世界经济比重从11.4%提高到15%左右，对世界经济增长贡献率超过30%。财政收入从11.7万亿元增加到17.3万亿元。居民消费价格年均上涨1.9%，保持较低水平。城镇新增就业6600万人以上，13亿多人口的大国实现了比较充分就业。\\n',\n",
       " '\\n']"
      ]
     },
     "execution_count": 6,
     "metadata": {},
     "output_type": "execute_result"
    }
   ],
   "source": [
    "os.chdir(\"E:/graduate/class/Statistical Case Studies/homework2\")\n",
    "f = open(\"政府工作报告2018.txt\")#a song called Baby I\n",
    "report = f.readlines()\n",
    "f.close()\n",
    "len(report)\n",
    "report[:10]"
   ]
  },
  {
   "cell_type": "markdown",
   "metadata": {},
   "source": [
    "### 2.2去掉只有\\n的空行，得到段落"
   ]
  },
  {
   "cell_type": "code",
   "execution_count": 8,
   "metadata": {
    "collapsed": false
   },
   "outputs": [
    {
     "data": {
      "text/plain": [
       "['各位代表：\\n',\n",
       " '现在，我代表国务院，向大会报告过去五年政府工作，对今年工作提出建议，请予审议，并请全国政协委员提出意见。\\n',\n",
       " '一、过去五年工作回顾\\n',\n",
       " '第十二届全国人民代表大会第一次会议以来的五年，是我国发展进程中极不平凡的五年。面对极其错综复杂的国内外形势，以习近平同志为核心的党中央团结带领全国各族人民砥砺前行，统筹推进“五位一体”总体布局，协调推进“四个全面”战略布局，改革开放和社会主义现代化建设全面开创新局面。党的十九大确立了习近平新时代中国特色社会主义思想的历史地位，制定了决胜全面建成小康社会、夺取新时代中国特色社会主义伟大胜利的宏伟蓝图和行动纲领，具有重大现实意义和深远历史意义。各地区各部门不断增强政治意识、大局意识、核心意识、看齐意识，深入贯彻落实新发展理念，“十二五”规划胜利完成，“十三五”规划顺利实施，经济社会发展取得历史性成就、发生历史性变革。\\n',\n",
       " '五年来，经济实力跃上新台阶。国内生产总值从54万亿元增加到82.7万亿元，年均增长7.1%，占世界经济比重从11.4%提高到15%左右，对世界经济增长贡献率超过30%。财政收入从11.7万亿元增加到17.3万亿元。居民消费价格年均上涨1.9%，保持较低水平。城镇新增就业6600万人以上，13亿多人口的大国实现了比较充分就业。\\n']"
      ]
     },
     "execution_count": 8,
     "metadata": {},
     "output_type": "execute_result"
    }
   ],
   "source": [
    "paragraphs = [paragraph for paragraph in report if paragraph not in [\"\\n\"]] \n",
    "len(paragraphs)\n",
    "paragraphs[:5]"
   ]
  },
  {
   "cell_type": "markdown",
   "metadata": {},
   "source": [
    "### 2.3按照句号和感叹号分隔，去掉\\n和空格，得到句子"
   ]
  },
  {
   "cell_type": "code",
   "execution_count": 13,
   "metadata": {
    "collapsed": false
   },
   "outputs": [
    {
     "data": {
      "text/plain": [
       "['各位代表：\\n',\n",
       " '现在，我代表国务院，向大会报告过去五年政府工作，对今年工作提出建议，请予审议，并请全国政协委员提出意见',\n",
       " '一、过去五年工作回顾\\n',\n",
       " '第十二届全国人民代表大会第一次会议以来的五年，是我国发展进程中极不平凡的五年',\n",
       " '面对极其错综复杂的国内外形势，以习近平同志为核心的党中央团结带领全国各族人民砥砺前行，统筹推进“五位一体”总体布局，协调推进“四个全面”战略布局，改革开放和社会主义现代化建设全面开创新局面',\n",
       " '党的十九大确立了习近平新时代中国特色社会主义思想的历史地位，制定了决胜全面建成小康社会、夺取新时代中国特色社会主义伟大胜利的宏伟蓝图和行动纲领，具有重大现实意义和深远历史意义',\n",
       " '各地区各部门不断增强政治意识、大局意识、核心意识、看齐意识，深入贯彻落实新发展理念，“十二五”规划胜利完成，“十三五”规划顺利实施，经济社会发展取得历史性成就、发生历史性变革',\n",
       " '五年来，经济实力跃上新台阶',\n",
       " '国内生产总值从54万亿元增加到82.7万亿元，年均增长7.1%，占世界经济比重从11.4%提高到15%左右，对世界经济增长贡献率超过30%',\n",
       " '财政收入从11.7万亿元增加到17.3万亿元',\n",
       " '居民消费价格年均上涨1.9%，保持较低水平',\n",
       " '城镇新增就业6600万人以上，13亿多人口的大国实现了比较充分就业']"
      ]
     },
     "execution_count": 13,
     "metadata": {},
     "output_type": "execute_result"
    }
   ],
   "source": [
    "sentences = [sent for paragraph in paragraphs for sent in re.split(r\"[。！]\",paragraph)]\n",
    "sentences1 = [sent for sent in sentences if sent not in [\"\\n\",\"\"]] \n",
    "len(sentences1)\n",
    "sentences1[:12]\n",
    "#str.split()单一分隔符，使用str.split()即可 \n",
    "#str.split不支持正则及多个切割符号，不感知空格的数量\n",
    "#\n",
    "#re.split()多个分隔符，复杂的分隔情况，使用re.split"
   ]
  },
  {
   "cell_type": "markdown",
   "metadata": {},
   "source": [
    "### 2.4利用python正则表达式去除标点符号、数字、英文字母"
   ]
  },
  {
   "cell_type": "code",
   "execution_count": 22,
   "metadata": {
    "collapsed": false
   },
   "outputs": [
    {
     "name": "stdout",
     "output_type": "stream",
     "text": [
      "各位代表 \n",
      "现在 我代表国务院 向大会报告过去五年政府工作 对今年工作提出建议 请予审议 并请全国政协委员提出意见\n",
      "一 过去五年工作回顾\n",
      "第十二届全国人民代表大会第一次会议以来的五年 是我国发展进程中极不平凡的五年\n",
      "面对极其错综复杂的国内外形势 以习近平同志为核心的党中央团结带领全国各族人民砥砺前行 统筹推进五位一体总体布局 协调推进四个全面战略布局 改革开放和社会主义现代化建设全面开创新局面\n",
      "党的十九大确立了习近平新时代中国特色社会主义思想的历史地位 制定了决胜全面建成小康社会 夺取新时代中国特色社会主义伟大胜利的宏伟蓝图和行动纲领 具有重大现实意义和深远历史意义\n",
      "各地区各部门不断增强政治意识 大局意识 核心意识 看齐意识 深入贯彻落实新发展理念 十二五规划胜利完成 十三五规划顺利实施 经济社会发展取得历史性成就 发生历史性变革\n",
      "五年来 经济实力跃上新台阶\n",
      "国内生产总值从万亿元增加到万亿元 年均增长 占世界经济比重从提高到左右 对世界经济增长贡献率超过\n",
      "财政收入从万亿元增加到万亿元\n",
      "居民消费价格年均上涨 保持较低水平\n",
      "城镇新增就业万人以上 亿多人口的大国实现了比较充分就业\n"
     ]
    }
   ],
   "source": [
    "def rmpunc(sent):\n",
    "    #顿号逗号冒号用空格代替\n",
    "    sent1 = re.sub(r\"[，、：]\",\" \", sent.encode(\"utf-8\").decode(\"utf-8\")) \n",
    "    #其他标点符号和数字英文字母均去掉\n",
    "    return re.sub(r\"[\\n\\da-zA-Z+%（）“”.]\",\"\", sent1)\n",
    "\n",
    "preprocess = list(map(rmpunc,sentences1))\n",
    "_=[print(line) for line in preprocess[:12]]"
   ]
  },
  {
   "cell_type": "markdown",
   "metadata": {},
   "source": [
    "### 2.6 逐行写入文件"
   ]
  },
  {
   "cell_type": "code",
   "execution_count": null,
   "metadata": {
    "collapsed": true
   },
   "outputs": [],
   "source": [
    "#写入txt文件\n",
    "with open(\"政府工作报告_文本预处理.txt\",\"w\") as f2:\n",
    "    for sent in preprocess:\n",
    "        sent = sent+\"\\n\"\n",
    "        f2.write(sent)\n",
    "\n",
    "#写入csv文件\n",
    "csvfile = open('政府工作报告_文本预处理.csv','w') \n",
    "writer = csv.writer(csvfile)\n",
    "for sent in preprocess:\n",
    "    writer.writerow([sent])\n",
    "csvfile.close()"
   ]
  }
 ],
 "metadata": {
  "kernelspec": {
   "display_name": "Python 2",
   "language": "python",
   "name": "python2"
  },
  "language_info": {
   "codemirror_mode": {
    "name": "ipython",
    "version": 2
   },
   "file_extension": ".py",
   "mimetype": "text/x-python",
   "name": "python",
   "nbconvert_exporter": "python",
   "pygments_lexer": "ipython2",
   "version": "2.7.13"
  }
 },
 "nbformat": 4,
 "nbformat_minor": 2
}
